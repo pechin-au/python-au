{
 "cells": [
  {
   "cell_type": "markdown",
   "metadata": {},
   "source": [
    "## Задание\n",
    "\n",
    "Ну и как без него?\n",
    "\n",
    "Сделать «декоратор с параметром» (но мы-то знаем), который будет применять функцию к арументу заданное количество раз. Т.е. такой:\n",
    "\n",
    "```\n",
    "def repeat(n):  # Вот это и надо реализовать\n",
    "    ...\n",
    "    ...\n",
    "\n",
    "\n",
    "@repeat(2)\n",
    "def plus_1(x):\n",
    "    return x + 1\n",
    "\n",
    "\n",
    "@repeat(0)\n",
    "def mul_2(x):\n",
    "    return x * 2\n",
    "\n",
    "print(plus_1(3))  # должно выдать 5\n",
    "print(mul_2(4))  # должно выдать 4\n",
    "```"
   ]
  },
  {
   "cell_type": "code",
   "execution_count": 4,
   "metadata": {},
   "outputs": [
    {
     "name": "stdout",
     "output_type": "stream",
     "text": [
      "5\n",
      "4\n"
     ]
    }
   ],
   "source": [
    "def repeat(n):\n",
    "    def repeat_decorator(function):\n",
    "        def fake_function(argument):\n",
    "            arg = argument\n",
    "            for i in range(n):\n",
    "                arg = function(arg)\n",
    "            return arg\n",
    "        return fake_function            \n",
    "    return repeat_decorator\n",
    "\n",
    "@repeat(2)\n",
    "def plus_1(x):\n",
    "    return x+1\n",
    "\n",
    "@repeat(0)\n",
    "def mul_2(x):\n",
    "    return x * 2\n",
    "    \n",
    "print(plus_1(3))  # должно выдать 5\n",
    "print(mul_2(4))  # должно выдать 4"
   ]
  }
 ],
 "metadata": {
  "kernelspec": {
   "display_name": "Python 3",
   "language": "python",
   "name": "python3"
  },
  "language_info": {
   "codemirror_mode": {
    "name": "ipython",
    "version": 3
   },
   "file_extension": ".py",
   "mimetype": "text/x-python",
   "name": "python",
   "nbconvert_exporter": "python",
   "pygments_lexer": "ipython3",
   "version": "3.7.1"
  }
 },
 "nbformat": 4,
 "nbformat_minor": 2
}
