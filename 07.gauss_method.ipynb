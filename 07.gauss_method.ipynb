{
 "cells": [
  {
   "cell_type": "code",
   "execution_count": 1,
   "metadata": {},
   "outputs": [
    {
     "name": "stdout",
     "output_type": "stream",
     "text": [
      "[[ 1.  2.  1.]\n",
      " [ 0. -4.  0.]\n",
      " [ 0.  0. -1.]] [ 5.  -9.   6.5]\n",
      "X = [ 7.    2.25 -6.5 ]\n",
      "A * X = [5. 6. 7.]\n"
     ]
    }
   ],
   "source": [
    "import numpy\n",
    "\n",
    "import copy  # to copy list of lists\n",
    "\n",
    "def gauss(a, b):\n",
    "    a = numpy.array(a, copy=True, dtype='float64')  # to copy internal lists too\n",
    "    b = numpy.array(b, copy=True, dtype='float64')\n",
    "    n = len(a)\n",
    "    \n",
    "    def forward():\n",
    "        for i in range(n):\n",
    "            for j in range(i+1, n):\n",
    "                t = (a[j][i] / a[i][i])\n",
    "                a[j] -= a[i] * t\n",
    "                b[j] -= b[i] * t\n",
    "\n",
    "\n",
    "    def backward():\n",
    "        print(a, b)\n",
    "        x = numpy.zeros(len(b))\n",
    "        for i in range(n-1, -1, -1):\n",
    "            x[i] = (b[i] - numpy.sum(a[i][i+1:] * x[i+1:])) / a[i][i]\n",
    "        return x\n",
    "\n",
    "    forward()\n",
    "    return backward()\n",
    "\n",
    "\n",
    "a = numpy.array([\n",
    "    [1,2,1],\n",
    "    [3,2,3],\n",
    "    [1,0,0]\n",
    "])\n",
    "\n",
    "b = numpy.array([5,6,7])\n",
    "\n",
    "x = gauss(a, b)\n",
    "print(\"X =\", x)\n",
    "print(\"A * X =\", numpy.matmul(a, x))"
   ]
  },
  {
   "cell_type": "code",
   "execution_count": 4,
   "metadata": {},
   "outputs": [
    {
     "name": "stdout",
     "output_type": "stream",
     "text": [
      "20.9 ms ± 409 µs per loop (mean ± std. dev. of 7 runs, 10 loops each)\n",
      "891 µs ± 23 µs per loop (mean ± std. dev. of 7 runs, 1 loop each)\n"
     ]
    }
   ],
   "source": [
    "import numpy\n",
    "from numba import njit, prange\n",
    "import numpy.random\n",
    "\n",
    "import copy  # to copy list of lists\n",
    "\n",
    "@njit(fastmath=True)\n",
    "def gauss_jit(a1 : 'numpy.ndarray', b1: 'numpy.ndarray') -> 'numpy.ndarray':\n",
    "    a = numpy.copy(a1)\n",
    "    b = numpy.copy(b1)\n",
    "    n = len(a)\n",
    "    \n",
    "    def forward(a, b):\n",
    "        for i in range(n):\n",
    "            for j in range(i+1, n):\n",
    "                t = (a[j][i] / a[i][i])\n",
    "                a[j] = a[j] - a[i] * t\n",
    "                b[j] -= b[i] * t\n",
    "\n",
    "\n",
    "    def backward(a, b):\n",
    "        x = numpy.zeros(len(b))\n",
    "        for i in range(n-1, -1, -1):\n",
    "            x[i] = (b[i] - numpy.sum(a[i][i+1:] * x[i+1:])) / a[i][i]\n",
    "        return x\n",
    "\n",
    "    forward(a, b)\n",
    "    return backward(a, b)\n",
    "\n",
    "N = 100\n",
    "a = numpy.random.rand(N, N)\n",
    "\n",
    "b = numpy.random.rand(N)\n",
    "\n",
    "%timeit gauss(a, b)\n",
    "%timeit gauss_jit(a, b)\n",
    "\n"
   ]
  },
  {
   "cell_type": "code",
   "execution_count": null,
   "metadata": {},
   "outputs": [],
   "source": []
  }
 ],
 "metadata": {
  "kernelspec": {
   "display_name": "Python 3",
   "language": "python",
   "name": "python3"
  },
  "language_info": {
   "codemirror_mode": {
    "name": "ipython",
    "version": 3
   },
   "file_extension": ".py",
   "mimetype": "text/x-python",
   "name": "python",
   "nbconvert_exporter": "python",
   "pygments_lexer": "ipython3",
   "version": "3.7.1"
  }
 },
 "nbformat": 4,
 "nbformat_minor": 2
}
