{
 "cells": [
  {
   "cell_type": "markdown",
   "metadata": {},
   "source": [
    "# Описание метода\n",
    "\n",
    "Даны матрица $A$ размером $N\\times N$, вектор $B$ высотой $N$. Требуется найти вектор $X$ такой, что $AX=B$.\n",
    "\n",
    "Без терминологии линейной алгебры это записывается, как:\n",
    "\n",
    "$\n",
    "\\begin{array}{lcr}\n",
    "a_{11}x_1+\\ldots+a_{1N}x_N &=& b_1 \\\\\n",
    "\\ldots & & \\\\\n",
    "a_{N1}x_1+\\ldots+a_{NN}x_N &=& b_N \\\\\n",
    "\\end{array}\n",
    "$\n",
    "\n",
    "## Прямой ход\n",
    "\n",
    "Из второго уравнения вычитаем первое, умноженное на $\\frac{a_{21}}{a_{11}}$. Из третьего вычитаем первое, умноженное на $\\frac{a_{31}}{a_{11}}$. И т.д. до $N$-го. Получаем систему уравнений следующего вида.\n",
    "\n",
    "$\n",
    "\\begin{array}{lcr}\n",
    "a_{11}&x_1 +& a_{12} x_2 +\\ldots+a_{1N}x_N &=& b_1 \\\\\n",
    "0 &x_1 +& a'_{22} x_2 +\\ldots+a'_{1N}x_N &=& b'_1 \\\\\n",
    "& \\ldots & & \\\\\n",
    "0 &x_1 +& a'_{N2} x_2 +\\ldots+a'_{NN}x_N &=& b'_N \\\\\n",
    "\\end{array}\n",
    "$\n",
    "\n",
    "Затем из третьего уравнения вычитаем второе, умноженное на $\\frac{a_{32}}{a_{22}}$.\n",
    "\n",
    "И т.д., пока не выполним такое же действие над последней строкой.\n",
    "\n",
    "В итоге мы получим систему уравнений следующего вида.\n",
    "\n",
    "$\n",
    "\\begin{array}{lcr}\n",
    "a_{11}& x_1 +& a_{12}   & x_2 + & a''_{13} & x_3 + \\ldots + a_{1N}   x_N &=& b_1 \\\\\n",
    "0     & x_1 +& a''_{22} & x_2 + & a''_{23} & x_3 + \\ldots + a''_{2N} x_N &=& b''_1 \\\\\n",
    "0     & x_1 +& 0        & x_2 + & a''_{33} & x_3  +\\ldots + a''_{3N} x_N &=& b''_3 \\\\\n",
    "0     & x_1 +& 0        & x_2 + & 0        & x_3 + \\ldots + a''_{4N} x_N &=& b''_4 \\\\\n",
    "& & & \\ldots & & & & \\\\\n",
    "0 & x_1 +& & \\ldots & +                  & 0 x_{N-1} + a''_{NN} x_N &=& b''_N \\\\\n",
    "\\end{array}\n",
    "$\n",
    "\n",
    "\n",
    "## Обратный ход\n",
    "\n",
    "Очевидно, $x_N = \\frac{b''_N}{a''_{NN}}$.\n",
    "\n",
    "Далее, $x_i = \\frac{b''_i - \\sum_{j=i+1}^{N} a''_{ij}x_j}{a_{ii}}$\n",
    "\n",
    "\n",
    "# Задание\n",
    "\n",
    "Предлагается реализовать слкдующие недостающие функции"
   ]
  },
  {
   "cell_type": "code",
   "execution_count": 16,
   "metadata": {},
   "outputs": [
    {
     "name": "stdout",
     "output_type": "stream",
     "text": [
      "[7.0, 2.25, -6.5]\n"
     ]
    }
   ],
   "source": [
    "import copy  # to copy list of lists\n",
    "\n",
    "def gauss(a, b):\n",
    "    a = copy.deepcopy(a)  # to copy internal lists too\n",
    "    b = b.copy()\n",
    "    N = len(a)\n",
    "    \n",
    "    def forward():\n",
    "        for i in range(N):\n",
    "            for j in range(i+1, N):\n",
    "                t = (a[j][i] / a[i][i])\n",
    "                for k in range(N):\n",
    "                    a[j][k] -= a[i][k] * t\n",
    "                b[j] -= b[i] * t\n",
    "\n",
    "\n",
    "    def backward():\n",
    "        x = [0] * len(b)\n",
    "        for i in range(N, 0, -1):\n",
    "            x[i-1] = b[i-1]\n",
    "            for j in range(i, N):\n",
    "                x[i-1] -= a[i-1][j] * x[j]\n",
    "            x[i-1] /= a[i-1][i-1]\n",
    "        return x\n",
    "\n",
    "    forward()\n",
    "    return backward()\n",
    "\n",
    "\n",
    "a = [\n",
    "    [1,2,1],\n",
    "    [3,2,3],\n",
    "    [1,0,0]\n",
    "]\n",
    "\n",
    "b = [5,6,7]\n",
    "\n",
    "print(gauss(a, b))"
   ]
  },
  {
   "cell_type": "code",
   "execution_count": null,
   "metadata": {},
   "outputs": [],
   "source": []
  }
 ],
 "metadata": {
  "kernelspec": {
   "display_name": "Python 3",
   "language": "python",
   "name": "python3"
  },
  "language_info": {
   "codemirror_mode": {
    "name": "ipython",
    "version": 3
   },
   "file_extension": ".py",
   "mimetype": "text/x-python",
   "name": "python",
   "nbconvert_exporter": "python",
   "pygments_lexer": "ipython3",
   "version": "3.7.1"
  }
 },
 "nbformat": 4,
 "nbformat_minor": 2
}
