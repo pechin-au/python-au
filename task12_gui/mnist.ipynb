{
 "cells": [
  {
   "cell_type": "code",
   "execution_count": 1,
   "metadata": {
    "pycharm": {
     "is_executing": false
    }
   },
   "outputs": [],
   "source": [
    "import tensorflow as tf\n",
    "\n",
    "(x_train, y_train), (x_test, y_test) = tf.keras.datasets.mnist.load_data()\n"
   ]
  },
  {
   "cell_type": "code",
   "execution_count": 2,
   "metadata": {
    "pycharm": {
     "is_executing": false,
     "metadata": false,
     "name": "#%%\n"
    }
   },
   "outputs": [
    {
     "name": "stdout",
     "output_type": "stream",
     "text": [
      "8\n"
     ]
    },
    {
     "data": {
      "text/plain": [
       "<matplotlib.image.AxesImage at 0x2b3f937d9b0>"
      ]
     },
     "execution_count": 2,
     "metadata": {},
     "output_type": "execute_result"
    },
    {
     "data": {
      "image/png": "[encoded data removed]",
      "text/plain": [
       "<Figure size 432x288 with 1 Axes>"
      ]
     },
     "metadata": {
      "needs_background": "light"
     },
     "output_type": "display_data"
    }
   ],
   "source": [
    "\n",
    "import matplotlib.pyplot as plt\n",
    "%matplotlib inline \n",
    "image_index = 59999\n",
    "print(y_train[image_index])\n",
    "plt.imshow(x_train[image_index].reshape(28,28), cmap='Greys')\n",
    "\n"
   ]
  },
  {
   "cell_type": "code",
   "execution_count": 3,
   "metadata": {
    "pycharm": {
     "is_executing": false,
     "metadata": false,
     "name": "#%%\n"
    }
   },
   "outputs": [
    {
     "name": "stdout",
     "output_type": "stream",
     "text": [
      "x_train shape: (60000, 28, 28, 1)\n",
      "Number of images in x_train 60000\n",
      "Number of images in x_test 10000\n"
     ]
    }
   ],
   "source": [
    "\n",
    "# Reshaping the array to 4-dims so that it can work with the Keras API\n",
    "x_train = x_train.reshape(x_train.shape[0], 28, 28, 1)\n",
    "x_test = x_test.reshape(x_test.shape[0], 28, 28, 1)\n",
    "input_shape = (28, 28, 1)\n",
    "# Making sure that the values are float so that we can get decimal points after division\n",
    "x_train = x_train.astype('float32')\n",
    "x_test = x_test.astype('float32')\n",
    "# Image augmentation\n",
    "#from keras.preprocessing.image import ImageDataGenerator\n",
    "#shift = 0.1\n",
    "#datagen = ImageDataGenerator(rotation_range=20,  width_shift_range=shift, height_shift_range=shift)\n",
    "#datagen.fit(x_train)\n",
    "# Normalizing the RGB codes by dividing it to the max RGB value.\n",
    "x_train /= 255\n",
    "x_test /= 255\n",
    "print('x_train shape:', x_train.shape)\n",
    "print('Number of images in x_train', x_train.shape[0])\n",
    "print('Number of images in x_test', x_test.shape[0])\n",
    "\n"
   ]
  },
  {
   "cell_type": "code",
   "execution_count": 4,
   "metadata": {
    "pycharm": {
     "is_executing": false,
     "metadata": false,
     "name": "#%%\n"
    }
   },
   "outputs": [
    {
     "name": "stderr",
     "output_type": "stream",
     "text": [
      "Using TensorFlow backend.\n"
     ]
    },
    {
     "name": "stdout",
     "output_type": "stream",
     "text": [
      "WARNING:tensorflow:From C:\\Users\\ahsima\\Anaconda3\\envs\\tf_gpu\\lib\\site-packages\\tensorflow\\python\\framework\\op_def_library.py:263: colocate_with (from tensorflow.python.framework.ops) is deprecated and will be removed in a future version.\n",
      "Instructions for updating:\n",
      "Colocations handled automatically by placer.\n",
      "WARNING:tensorflow:From C:\\Users\\ahsima\\Anaconda3\\envs\\tf_gpu\\lib\\site-packages\\keras\\backend\\tensorflow_backend.py:3445: calling dropout (from tensorflow.python.ops.nn_ops) with keep_prob is deprecated and will be removed in a future version.\n",
      "Instructions for updating:\n",
      "Please use `rate` instead of `keep_prob`. Rate should be set to `rate = 1 - keep_prob`.\n"
     ]
    }
   ],
   "source": [
    "\n",
    "\n",
    "# Importing the required Keras modules containing model and layers\n",
    "from keras.models import Sequential\n",
    "from keras.layers import Dense, Conv2D, Dropout, Flatten, MaxPooling2D, BatchNormalization\n",
    "# Creating a Sequential Model and adding the layers\n",
    "model = Sequential()\n",
    "model.add(Conv2D(32,kernel_size=3,activation='relu',input_shape=(28,28,1)))\n",
    "model.add(BatchNormalization())\n",
    "model.add(Conv2D(32,kernel_size=3,activation='relu'))\n",
    "model.add(BatchNormalization())\n",
    "model.add(Conv2D(32,kernel_size=5,strides=2,padding='same',activation='relu'))\n",
    "model.add(BatchNormalization())\n",
    "model.add(Dropout(0.4))\n",
    "\n",
    "model.add(Conv2D(64,kernel_size=3,activation='relu'))\n",
    "model.add(BatchNormalization())\n",
    "model.add(Conv2D(64,kernel_size=3,activation='relu'))\n",
    "model.add(BatchNormalization())\n",
    "model.add(Conv2D(64,kernel_size=5,strides=2,padding='same',activation='relu'))\n",
    "model.add(BatchNormalization())\n",
    "model.add(Dropout(0.4))\n",
    "\n",
    "model.add(Flatten())\n",
    "model.add(Dense(128, activation='relu'))\n",
    "model.add(BatchNormalization())\n",
    "\n",
    "model.add(Dense(10, activation='softmax'))"
   ]
  },
  {
   "cell_type": "code",
   "execution_count": 6,
   "metadata": {
    "pycharm": {
     "is_executing": true,
     "metadata": false,
     "name": "#%%\n"
    }
   },
   "outputs": [
    {
     "name": "stdout",
     "output_type": "stream",
     "text": [
      "Epoch 1/35\n",
      "60000/60000 [==============================] - 17s 280us/step - loss: 0.0193 - acc: 0.9944\n",
      "Epoch 2/35\n",
      "60000/60000 [==============================] - 16s 263us/step - loss: 0.0171 - acc: 0.9948\n",
      "Epoch 3/35\n",
      "60000/60000 [==============================] - 16s 259us/step - loss: 0.0151 - acc: 0.9953\n",
      "Epoch 4/35\n",
      "60000/60000 [==============================] - 16s 260us/step - loss: 0.0148 - acc: 0.9954\n",
      "Epoch 5/35\n",
      "60000/60000 [==============================] - 16s 263us/step - loss: 0.0137 - acc: 0.9960\n",
      "Epoch 6/35\n",
      "60000/60000 [==============================] - 16s 263us/step - loss: 0.0131 - acc: 0.9956\n",
      "Epoch 7/35\n",
      "60000/60000 [==============================] - 16s 261us/step - loss: 0.0109 - acc: 0.9965\n",
      "Epoch 8/35\n",
      "60000/60000 [==============================] - 16s 262us/step - loss: 0.0109 - acc: 0.9962\n",
      "Epoch 9/35\n",
      "60000/60000 [==============================] - 15s 255us/step - loss: 0.0105 - acc: 0.9966\n",
      "Epoch 10/35\n",
      "60000/60000 [==============================] - 15s 255us/step - loss: 0.0097 - acc: 0.9968\n",
      "Epoch 11/35\n",
      "60000/60000 [==============================] - 15s 255us/step - loss: 0.0102 - acc: 0.9966\n",
      "Epoch 12/35\n",
      "60000/60000 [==============================] - 16s 260us/step - loss: 0.0086 - acc: 0.9973\n",
      "Epoch 13/35\n",
      "60000/60000 [==============================] - 16s 259us/step - loss: 0.0069 - acc: 0.9977\n",
      "Epoch 14/35\n",
      "60000/60000 [==============================] - 15s 257us/step - loss: 0.0094 - acc: 0.9969\n",
      "Epoch 15/35\n",
      "60000/60000 [==============================] - 15s 257us/step - loss: 0.0084 - acc: 0.9973\n",
      "Epoch 16/35\n",
      "60000/60000 [==============================] - 16s 259us/step - loss: 0.0077 - acc: 0.9974\n",
      "Epoch 17/35\n",
      "60000/60000 [==============================] - 16s 261us/step - loss: 0.0072 - acc: 0.9976\n",
      "Epoch 18/35\n",
      "60000/60000 [==============================] - 16s 261us/step - loss: 0.0054 - acc: 0.9981\n",
      "Epoch 19/35\n",
      "60000/60000 [==============================] - 15s 257us/step - loss: 0.0065 - acc: 0.9978\n",
      "Epoch 20/35\n",
      "60000/60000 [==============================] - 15s 256us/step - loss: 0.0071 - acc: 0.9976\n",
      "Epoch 21/35\n",
      "60000/60000 [==============================] - 16s 262us/step - loss: 0.0061 - acc: 0.9978\n",
      "Epoch 22/35\n",
      "60000/60000 [==============================] - 16s 259us/step - loss: 0.0054 - acc: 0.9982\n",
      "Epoch 23/35\n",
      "60000/60000 [==============================] - 16s 261us/step - loss: 0.0061 - acc: 0.9980\n",
      "Epoch 24/35\n",
      "60000/60000 [==============================] - 15s 258us/step - loss: 0.0060 - acc: 0.9980\n",
      "Epoch 25/35\n",
      "60000/60000 [==============================] - 15s 257us/step - loss: 0.0053 - acc: 0.9983\n",
      "Epoch 26/35\n",
      "60000/60000 [==============================] - 15s 256us/step - loss: 0.0049 - acc: 0.9984\n",
      "Epoch 27/35\n",
      "60000/60000 [==============================] - 15s 257us/step - loss: 0.0049 - acc: 0.9982\n",
      "Epoch 28/35\n",
      "60000/60000 [==============================] - 15s 258us/step - loss: 0.0047 - acc: 0.9984\n",
      "Epoch 29/35\n",
      "60000/60000 [==============================] - 15s 257us/step - loss: 0.0054 - acc: 0.9984\n",
      "Epoch 30/35\n",
      "60000/60000 [==============================] - 15s 258us/step - loss: 0.0047 - acc: 0.9984\n",
      "Epoch 31/35\n",
      "60000/60000 [==============================] - 157s 3ms/step - loss: 0.0049 - acc: 0.9985\n",
      "Epoch 32/35\n",
      "60000/60000 [==============================] - 172s 3ms/step - loss: 0.0037 - acc: 0.9989\n",
      "Epoch 33/35\n",
      "60000/60000 [==============================] - 171s 3ms/step - loss: 0.0049 - acc: 0.9984\n",
      "Epoch 34/35\n",
      "60000/60000 [==============================] - 170s 3ms/step - loss: 0.0040 - acc: 0.9986\n",
      "Epoch 35/35\n",
      "60000/60000 [==============================] - 16s 267us/step - loss: 0.0041 - acc: 0.9986\n"
     ]
    },
    {
     "data": {
      "text/plain": [
       "<keras.callbacks.History at 0x20d447c1630>"
      ]
     },
     "execution_count": 6,
     "metadata": {},
     "output_type": "execute_result"
    }
   ],
   "source": [
    "model.compile(optimizer='adam', \n",
    "              loss='sparse_categorical_crossentropy', \n",
    "              metrics=['accuracy'])\n",
    "model.fit(x=x_train,y=y_train, epochs=30)"
   ]
  },
  {
   "cell_type": "code",
   "execution_count": 7,
   "metadata": {},
   "outputs": [],
   "source": [
    "model.save(\"mnist_cnn.h5\")"
   ]
  },
  {
   "cell_type": "code",
   "execution_count": 8,
   "metadata": {
    "pycharm": {
     "is_executing": true,
     "metadata": false,
     "name": "#%%\n"
    }
   },
   "outputs": [
    {
     "name": "stdout",
     "output_type": "stream",
     "text": [
      "10000/10000 [==============================] - 1s 107us/step\n",
      "[0.018155868224142252, 0.9961]\n"
     ]
    }
   ],
   "source": [
    "print(model.evaluate(x_test, y_test))\n",
    "#print(model.evaluate_generator(datagen.flow(x_test, y_test, batch_size=32), steps=1000))\n",
    "\n"
   ]
  },
  {
   "cell_type": "code",
   "execution_count": 9,
   "metadata": {
    "pycharm": {
     "is_executing": false
    }
   },
   "outputs": [
    {
     "name": "stdout",
     "output_type": "stream",
     "text": [
      "3\n",
      "(28, 28, 1)\n"
     ]
    },
    {
     "data": {
      "image/png": "[encoded data removed]",
      "text/plain": [
       "<Figure size 432x288 with 1 Axes>"
      ]
     },
     "metadata": {
      "needs_background": "light"
     },
     "output_type": "display_data"
    }
   ],
   "source": [
    "image_index = 5555\n",
    "plt.imshow(x_test[image_index].reshape(28, 28),cmap='Greys')\n",
    "pred = model.predict(x_test[image_index].reshape(1, 28, 28, 1))\n",
    "print(pred.argmax())\n",
    "print(x_test[image_index].shape)"
   ]
  },
  {
   "cell_type": "code",
   "execution_count": 11,
   "metadata": {
    "pycharm": {
     "is_executing": false
    }
   },
   "outputs": [
    {
     "name": "stdout",
     "output_type": "stream",
     "text": [
      "(28, 28, 1)\n",
      "1\n"
     ]
    },
    {
     "data": {
      "image/png": "[encoded data removed]",
      "text/plain": [
       "<Figure size 432x288 with 1 Axes>"
      ]
     },
     "metadata": {
      "needs_background": "light"
     },
     "output_type": "display_data"
    }
   ],
   "source": [
    "import imageio\n",
    "import numpy as np\n",
    "\n",
    "im = imageio.imread('9.png')\n",
    "im2 = np.empty((28,28,1), dtype='float32')\n",
    "for i in range(28):\n",
    "    for j in range(28):\n",
    "        im2[i][j] = [(255 - (int(im[i][j][0]) + int(im[i][j][1]) + int(im[i][j][2])) / 3) / 255]\n",
    "\n",
    "print(im2.shape)\n",
    "plt.imshow(im2.reshape(28, 28),cmap='Greys')\n",
    "pred = model.predict(im2.reshape(1, 28, 28, 1))\n",
    "print(pred.argmax())"
   ]
  },
  {
   "cell_type": "code",
   "execution_count": null,
   "metadata": {
    "pycharm": {}
   },
   "outputs": [],
   "source": []
  },
  {
   "cell_type": "code",
   "execution_count": null,
   "metadata": {
    "pycharm": {}
   },
   "outputs": [],
   "source": []
  }
 ],
 "metadata": {
  "kernelspec": {
   "display_name": "Python 3",
   "language": "python",
   "name": "python3"
  },
  "language_info": {
   "codemirror_mode": {
    "name": "ipython",
    "version": 3
   },
   "file_extension": ".py",
   "mimetype": "text/x-python",
   "name": "python",
   "nbconvert_exporter": "python",
   "pygments_lexer": "ipython3",
   "version": "3.7.3"
  }
 },
 "nbformat": 4,
 "nbformat_minor": 1
}
