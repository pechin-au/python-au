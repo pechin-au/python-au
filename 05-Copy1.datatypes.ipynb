{
 "cells": [
  {
   "cell_type": "markdown",
   "metadata": {},
   "source": [
    "## Задание\n",
    "\n",
    "Придумать и реализовать какой-нибудь свой тип данных с операциями. Вот идеи:\n",
    "\n",
    "* числа по модулю;\n",
    "* обычные числа, но с ошибками при вычислениях;\n",
    "* [кватеринионы](https://en.wikipedia.org/wiki/Quaternion);\n",
    "* можно матрицы (в т.ч. вектора) — они и так в NumPy есть, но всё равно же интересно;\n",
    "* да тот же многочлен, но при помощи [`defaultdict`](https://docs.python.org/3.7/library/collections.html#collections.defaultdict) — ему не повредит;\n",
    "* что угодно на свой вкус, над чем можно определить арифметику или её подобие."
   ]
  },
  {
   "cell_type": "code",
   "execution_count": 52,
   "metadata": {},
   "outputs": [
    {
     "name": "stdout",
     "output_type": "stream",
     "text": [
      "20.00088939235802 :^) 12.000022369945306 -3.9999554723716466 -9.999935868034068\n"
     ]
    }
   ],
   "source": [
    "import random as rand\n",
    "\n",
    "class RandomNumbersDomainError(Exception):\n",
    "    pass\n",
    "\n",
    "class LeRandomNumber:\n",
    "    def __init__(self, num : 'LeRandomNumber|int|float'):\n",
    "        if isinstance(num, int) or isinstance(num, float):\n",
    "            self.n = float(num)\n",
    "        elif isinstance(num, LeRandomNumber):\n",
    "            self.n = num.n\n",
    "        else:\n",
    "            raise RandomNumbersDomainError()\n",
    "\n",
    "        \n",
    "    def __eq__(self, other : 'LeRandomNumber') -> 'bool':     \n",
    "        if isinstance(other, LeRandomNumber):\n",
    "            return int(self.n) == int(other.n)\n",
    "        else:\n",
    "            raise RandomNumbersDomainError()\n",
    "            \n",
    "    def __add__(self, other : 'LeRandomNumber') -> 'LeRandomNumber':\n",
    "        if isinstance(other, LeRandomNumber):\n",
    "            if rand.randrange(25) != 0:\n",
    "                return LeRandomNumber(self.n + other.n + rand.random() / 10000)\n",
    "            else:\n",
    "                return LeRandomNumber(69420)\n",
    "        else:\n",
    "            raise RandomNumbersDomainError()\n",
    "            \n",
    "    def __sub__(self, other : 'LeRandomNumber') -> 'LeRandomNumber':\n",
    "        if isinstance(other, LeRandomNumber):\n",
    "            return LeRandomNumber(self.n - other.n + rand.random() / 10000)\n",
    "        else:\n",
    "            raise RandomNumbersDomainError()\n",
    "            \n",
    "    def __neg__(self):       \n",
    "            return LeRandomNumber((0 - self.n + rand.random() / 1000))\n",
    "    \n",
    "    def __mul__(self, other : 'LeRandomNumber') -> 'LeRandomNumber':\n",
    "        if isinstance(other, LeRandomNumber):\n",
    "            if rand.randrange(69) != 0:\n",
    "                return LeRandomNumber(self.n * other.n + rand.random() / 1000)\n",
    "            else:\n",
    "                return LeRandomNumber(123456)\n",
    "        else:\n",
    "            raise RandomNumbersDomainError()\n",
    "            \n",
    "    def __str__(self):\n",
    "        if rand.randrange(21) != 0:\n",
    "            return str(self.n)\n",
    "        else:\n",
    "            return \":^)\"\n",
    "\n",
    "a = LeRandomNumber(2)\n",
    "b = LeRandomNumber(10)\n",
    "c = LeRandomNumber(6)\n",
    "\n",
    "print(a * b, a+a, a + b, a - c, -b)\n"
   ]
  },
  {
   "cell_type": "code",
   "execution_count": null,
   "metadata": {},
   "outputs": [],
   "source": []
  }
 ],
 "metadata": {
  "kernelspec": {
   "display_name": "Python 3",
   "language": "python",
   "name": "python3"
  },
  "language_info": {
   "codemirror_mode": {
    "name": "ipython",
    "version": 3
   },
   "file_extension": ".py",
   "mimetype": "text/x-python",
   "name": "python",
   "nbconvert_exporter": "python",
   "pygments_lexer": "ipython3",
   "version": "3.7.1"
  }
 },
 "nbformat": 4,
 "nbformat_minor": 2
}
