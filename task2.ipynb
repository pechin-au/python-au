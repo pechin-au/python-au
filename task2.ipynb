{
 "cells": [
  {
   "cell_type": "code",
   "execution_count": 39,
   "metadata": {},
   "outputs": [
    {
     "name": "stdout",
     "output_type": "stream",
     "text": [
      "0.42463585509643825\n",
      "0.4054651081081644\n"
     ]
    }
   ],
   "source": [
    "import math\n",
    "\n",
    "iterations = 40\n",
    "\n",
    "def my_log(x):\n",
    "    \"\"\"\n",
    "    \"\"\"\n",
    "    x = x - 1\n",
    "    partial_sum = 0\n",
    "    x_pow = x\n",
    "    for n in range(iterations):\n",
    "        minus = x_pow * x\n",
    "        partial_sum += x_pow / (n + 1) - minus / (n + 2)\n",
    "        x_pow = minus * x\n",
    "    \n",
    "    return partial_sum\n",
    "\n",
    "print(my_log(1.5))\n",
    "print(math.log(1.5))"
   ]
  },
  {
   "cell_type": "code",
   "execution_count": 40,
   "metadata": {
    "scrolled": true
   },
   "outputs": [],
   "source": [
    "%matplotlib inline\n",
    "\n",
    "import math\n",
    "import cmath\n",
    "import matplotlib.pyplot as plt\n",
    "import numpy as np"
   ]
  },
  {
   "cell_type": "code",
   "execution_count": 41,
   "metadata": {},
   "outputs": [
    {
     "data": {
      "image/png": "[encoded data removed]",
      "text/plain": [
       "<Figure size 432x288 with 1 Axes>"
      ]
     },
     "metadata": {
      "needs_background": "light"
     },
     "output_type": "display_data"
    }
   ],
   "source": [
    "arg1 = np.r_[0.01:2.5:0.01]\n",
    "arg2 = np.r_[0.01:2.09:0.01]\n",
    "plt.plot(arg1, np.log(arg1))\n",
    "plt.plot(arg2, np.vectorize(my_log)(arg2))\n",
    "plt.show()"
   ]
  },
  {
   "cell_type": "code",
   "execution_count": null,
   "metadata": {},
   "outputs": [],
   "source": []
  }
 ],
 "metadata": {
  "kernelspec": {
   "display_name": "Python 3",
   "language": "python",
   "name": "python3"
  },
  "language_info": {
   "codemirror_mode": {
    "name": "ipython",
    "version": 3
   },
   "file_extension": ".py",
   "mimetype": "text/x-python",
   "name": "python",
   "nbconvert_exporter": "python",
   "pygments_lexer": "ipython3",
   "version": "3.7.0"
  }
 },
 "nbformat": 4,
 "nbformat_minor": 2
}
