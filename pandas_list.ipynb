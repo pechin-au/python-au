{
 "cells": [
  {
   "cell_type": "code",
   "execution_count": 3,
   "metadata": {},
   "outputs": [],
   "source": [
    "class filter_list:    \n",
    "    def __init__(self, v = []):\n",
    "        self.v = v.copy()\n",
    "        return None\n",
    "    \n",
    "    def append(self, n):\n",
    "        self.v.append(n)\n",
    "        return None\n",
    "    \n",
    "    def __add__(self, n):\n",
    "        self.v.append(n)\n",
    "        return self\n",
    "    \n",
    "    def __eq__(self, n): # ==, equal\n",
    "        arr = []\n",
    "        for i in self.v:\n",
    "            if n == i:\n",
    "                arr.append(i)\n",
    "        return arr\n",
    "        \n",
    "    def __gt__(self, n):\n",
    "        arr = []\n",
    "        for i in self.v:\n",
    "            if i > n:\n",
    "                arr.append(i)\n",
    "        return arr\n",
    "     \n",
    "    def __ge__(self, n):\n",
    "        a = (self == n)\n",
    "        b = (self > n)\n",
    "        a.extend(b)\n",
    "        return a\n",
    "    \n",
    "    def __lt__(self, n):\n",
    "        arr = []\n",
    "        for i in self.v:\n",
    "            if i < n:\n",
    "                arr.append(i)\n",
    "        return arr\n",
    "    \n",
    "    def __le__(self, n):\n",
    "        a = self < boundary\n",
    "        b = self == boundary\n",
    "        a.extend(b)\n",
    "        return a\n",
    "      \n",
    "    def __str__(self):\n",
    "        return str(self.v)\n",
    "    \n",
    "    def __getitem__ (self, a):\n",
    "        return a"
   ]
  },
  {
   "cell_type": "code",
   "execution_count": 5,
   "metadata": {},
   "outputs": [
    {
     "name": "stdout",
     "output_type": "stream",
     "text": [
      "[1, 1, 2, 3, 5, 8, 13, 21]\n",
      "[1, 1, 2, 3]\n",
      "[1, 1, 2, 3]\n",
      "[1, 1]\n",
      "[5, 8, 13, 21]\n",
      "[5, 8, 13, 21]\n"
     ]
    }
   ],
   "source": [
    "l = filter_list([1,1,2,3,5,8,13,21])\n",
    "print(l)\n",
    "print(l < 5)\n",
    "print(l[l < 5])\n",
    "print(l[l == 1])\n",
    "print(l[l >= 5])\n",
    "print(l >= 5)"
   ]
  },
  {
   "cell_type": "code",
   "execution_count": null,
   "metadata": {},
   "outputs": [],
   "source": []
  }
 ],
 "metadata": {
  "kernelspec": {
   "display_name": "Python 3",
   "language": "python",
   "name": "python3"
  },
  "language_info": {
   "codemirror_mode": {
    "name": "ipython",
    "version": 3
   },
   "file_extension": ".py",
   "mimetype": "text/x-python",
   "name": "python",
   "nbconvert_exporter": "python",
   "pygments_lexer": "ipython3",
   "version": "3.7.3"
  }
 },
 "nbformat": 4,
 "nbformat_minor": 2
}
